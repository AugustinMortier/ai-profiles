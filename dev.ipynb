{
 "cells": [
  {
   "cell_type": "markdown",
   "metadata": {},
   "source": [
    "# Dev notebook"
   ]
  },
  {
   "cell_type": "code",
   "execution_count": 1,
   "metadata": {},
   "outputs": [
    {
     "ename": "SyntaxError",
     "evalue": "f-string: unmatched '[' (utils.py, line 119)",
     "output_type": "error",
     "traceback": [
      "Traceback \u001b[0;36m(most recent call last)\u001b[0m:\n",
      "\u001b[0m  File \u001b[1;32m~/.cache/pypoetry/virtualenvs/ai-profiles-fyAD6Fhh-py3.10/lib/python3.10/site-packages/IPython/core/interactiveshell.py:3577\u001b[0m in \u001b[1;35mrun_code\u001b[0m\n    exec(code_obj, self.user_global_ns, self.user_ns)\u001b[0m\n",
      "\u001b[0;36m  Cell \u001b[0;32mIn[1], line 2\u001b[0;36m\n\u001b[0;31m    import utils, methods.method1 as method1, methods.method2 as method2, methods.method3 as method3\u001b[0;36m\n",
      "\u001b[0;36m  File \u001b[0;32m~/work/v-profiles/ai-profiles/utils.py:119\u001b[0;36m\u001b[0m\n\u001b[0;31m    station = f'{ds.attrs['wigos_station_id']}-{ds.attrs['instrument_id']}'\u001b[0m\n\u001b[0m                           ^\u001b[0m\n\u001b[0;31mSyntaxError\u001b[0m\u001b[0;31m:\u001b[0m f-string: unmatched '['\n"
     ]
    }
   ],
   "source": [
    "import xarray as xr\n",
    "import utils, methods.method1 as method1, methods.method2 as method2, methods.method3 as method3"
   ]
  },
  {
   "cell_type": "markdown",
   "metadata": {},
   "source": [
    "### input parameter"
   ]
  },
  {
   "cell_type": "code",
   "execution_count": 2,
   "metadata": {},
   "outputs": [],
   "source": [
    "urls = [\n",
    "    '?date=2024-06-06&station_id=0-20008-0-UGR-A', # strong dust event\n",
    "    '?date=2024-09-30&station_id=0-20008-0-UGR-A', # aloft dust layer\n",
    "    '?date=2024-09-28&station_id=0-250-1001-07151-B', # low and high clouds\n",
    "    '?date=2024-09-28&dev&lr=IFS&station_id=0-620-3704-5480-B', # high clouds\n",
    "    '?date=2024-09-28&dev&lr=IFS&station_id=0-20000-0-01492-A', # low clouds\n",
    "    '?date=2024-09-28&dev&lr=IFS&station_id=0-20000-0-01311-A', # clouds and precipitations\n",
    "    '?date=2024-09-30&dev&lr=IFS&station_id=0-20000-0-01311-A', # low and mid clouds\n",
    "    '?date=2024-09-30&dev&lr=IFS&station_id=0-20000-0-01001-A', #thin low clouds\n",
    "]\n",
    "vars = ['attenuated_backscatter_0']"
   ]
  },
  {
   "cell_type": "code",
   "execution_count": null,
   "metadata": {},
   "outputs": [],
   "source": [
    "for url in urls:\n",
    "    print(f'https://vprofiles.met.no/{url}')\n",
    "    yyyy, mm, dd, station_id = utils.get_parameters_from_url(url)\n",
    "    path = f'../data/{yyyy}/{mm}/{dd}/AP_{station_id}-{yyyy}-{mm}-{dd}.nc'\n",
    "    \n",
    "    # read file\n",
    "    ds = xr.open_dataset(path)[vars].load()\n",
    "    \n",
    "    # run methods\n",
    "    method1.run(ds, save=True)\n",
    "    method2.run(ds, save=True)\n",
    "    method3.run(ds, save=True)"
   ]
  },
  {
   "cell_type": "markdown",
   "metadata": {},
   "source": [
    "### TODO\n",
    "\n",
    "threshold function that increases with altitude to remove high altitude noise"
   ]
  },
  {
   "cell_type": "markdown",
   "metadata": {},
   "source": []
  }
 ],
 "metadata": {
  "kernelspec": {
   "display_name": "ai-profiles-fyAD6Fhh-py3.10",
   "language": "python",
   "name": "python3"
  },
  "language_info": {
   "codemirror_mode": {
    "name": "ipython",
    "version": 3
   },
   "file_extension": ".py",
   "mimetype": "text/x-python",
   "name": "python",
   "nbconvert_exporter": "python",
   "pygments_lexer": "ipython3",
   "version": "3.10.12"
  }
 },
 "nbformat": 4,
 "nbformat_minor": 2
}
